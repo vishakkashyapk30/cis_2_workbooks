{
 "cells": [
  {
   "cell_type": "markdown",
   "id": "6292c86d",
   "metadata": {},
   "source": [
    "# NumPy\n",
    "\n",
    "The fundamental package for scientific computing with Python\n",
    "\n",
    "NumPy offers comprehensive mathematical functions, random number generators, linear algebra routines, Fourier transforms, and more.\n",
    "\n",
    "Case Studies: __[Image of a Black Hole](https://numpy.org/case-studies/blackhole-image/)__, __[Detection of Gravitational Wave](https://numpy.org/case-studies/gw-discov/)__, __[Sports Analytics](https://numpy.org/case-studies/cricket-analytics/)__, __[Pose Estimation Using Deep Learning](https://numpy.org/case-studies/deeplabcut-dnn/)__"
   ]
  },
  {
   "cell_type": "markdown",
   "id": "2df0ea5d",
   "metadata": {},
   "source": [
    "In this tutorial you will learn:\n",
    "\n",
    "- [How to Create Array](#How-To-Create-Array)\n",
    "    - [np.array method](#1.-using-np.array-method)\n",
    "    - [using arange() and linspace()](#2.-Generater-arrays-using-arange()-and-linspace())\n",
    "    - [Generate arrays using ones or zeros](#3.-Generate-arrays-using-ones-or-zeros)\n",
    "    - [Generate arrays using random.rand( )](#4.-Generate-arrays-using-random.rand(-))\n",
    "- [Why Numpy is better than List](#Why-Numpy-and-not-List)\n",
    "- [Array shape and reshape](#Array-shape-and-reshape)\n",
    "- [Numpy math](#Numpy-math)\n",
    "- [Array Broadcasting](#Array-Broadcasting)\n",
    "- [Questions](#Questions)"
   ]
  },
  {
   "cell_type": "code",
   "execution_count": 1,
   "id": "e8dcac4c",
   "metadata": {
    "tags": []
   },
   "outputs": [],
   "source": [
    "import numpy as np"
   ]
  },
  {
   "cell_type": "markdown",
   "id": "7a44cab3",
   "metadata": {},
   "source": [
    "## How to Create Array"
   ]
  },
  {
   "cell_type": "markdown",
   "id": "b87f3080",
   "metadata": {},
   "source": [
    "### 1. using np.array method\n",
    "\n",
    "- Ordered collection of elements of basic data types of given length\n",
    "- Syntax: numpy.array(object)"
   ]
  },
  {
   "cell_type": "code",
   "execution_count": 2,
   "id": "5f2f95da-f150-4217-95d8-26f191779c91",
   "metadata": {
    "tags": []
   },
   "outputs": [
    {
     "data": {
      "text/plain": [
       "(3,)"
      ]
     },
     "execution_count": 2,
     "metadata": {},
     "output_type": "execute_result"
    }
   ],
   "source": [
    "x1 = np.array([1,2,3])\n",
    "x1.shape"
   ]
  },
  {
   "cell_type": "code",
   "execution_count": null,
   "id": "d6c06566-6853-4ff7-afa8-6370a0706e17",
   "metadata": {
    "tags": []
   },
   "outputs": [
    {
     "name": "stdout",
     "output_type": "stream",
     "text": [
      "2\n",
      "(4, 2)\n"
     ]
    }
   ],
   "source": [
    "x2 = np.array([[1,2],[4,5],[5,6],[7,8]])\n",
    "print(x2.ndim)\n",
    "print(x2.shape)"
   ]
  },
  {
   "cell_type": "code",
   "execution_count": null,
   "id": "c044f278-3d9b-4f91-b296-527eef51793d",
   "metadata": {
    "tags": []
   },
   "outputs": [
    {
     "name": "stdout",
     "output_type": "stream",
     "text": [
      "3\n",
      "(2, 3, 3)\n"
     ]
    },
    {
     "data": {
      "text/plain": [
       "8"
      ]
     },
     "execution_count": 3,
     "metadata": {},
     "output_type": "execute_result"
    }
   ],
   "source": [
    "x3 = np.array([[[1,2,3],[2,3,4],[3,5,6]],[[1,2,3],[2,3,4],[3,5,6]]])\n",
    "print(x3.ndim)\n",
    "print(x3.shape)\n",
    "x3.itemsize"
   ]
  },
  {
   "cell_type": "code",
   "execution_count": null,
   "id": "d62fcc3e-3aa7-4f7a-b48e-4de6e097aee1",
   "metadata": {
    "tags": []
   },
   "outputs": [
    {
     "data": {
      "text/plain": [
       "array([1, 2])"
      ]
     },
     "execution_count": 12,
     "metadata": {},
     "output_type": "execute_result"
    }
   ],
   "source": [
    "x2[0:2][0]"
   ]
  },
  {
   "cell_type": "code",
   "execution_count": null,
   "id": "095f1fea",
   "metadata": {},
   "outputs": [
    {
     "name": "stdout",
     "output_type": "stream",
     "text": [
      "[1 2 3 4 5 6]\n",
      "<class 'numpy.ndarray'>\n",
      "int32\n"
     ]
    }
   ],
   "source": [
    "# using np.array to convert a list to array\n",
    "array1=np.array([1,2,3,4,5,6])\n",
    "print(array1)\n",
    "print(type(array1))\n",
    "print(array1.dtype)"
   ]
  },
  {
   "cell_type": "code",
   "execution_count": null,
   "id": "39509837",
   "metadata": {},
   "outputs": [
    {
     "data": {
      "text/plain": [
       "(6,)"
      ]
     },
     "execution_count": 22,
     "metadata": {},
     "output_type": "execute_result"
    }
   ],
   "source": [
    "array1.shape"
   ]
  },
  {
   "cell_type": "code",
   "execution_count": null,
   "id": "cde9ed19",
   "metadata": {},
   "outputs": [
    {
     "data": {
      "text/plain": [
       "1"
      ]
     },
     "execution_count": 23,
     "metadata": {},
     "output_type": "execute_result"
    }
   ],
   "source": [
    "array1.ndim"
   ]
  },
  {
   "cell_type": "code",
   "execution_count": null,
   "id": "2751ba9c-769f-4655-8026-eb3968f99bff",
   "metadata": {},
   "outputs": [],
   "source": [
    "np.lookfor('create array') #when looking for something"
   ]
  },
  {
   "cell_type": "markdown",
   "id": "461a4f90",
   "metadata": {},
   "source": [
    "##### Important Note - \n",
    "- Arrray in python is collection of different datatype elements\n",
    "- All elements are coerced(converted) to same data type i.e conversion will be done of lower datatype elements to higher datatype elements"
   ]
  },
  {
   "cell_type": "code",
   "execution_count": null,
   "id": "c9d3fa53",
   "metadata": {},
   "outputs": [
    {
     "name": "stdout",
     "output_type": "stream",
     "text": [
      "['2' '3' '5.6' 'n']\n",
      "<class 'numpy.ndarray'>\n",
      "<class 'numpy.str_'>\n",
      "<class 'numpy.str_'>\n",
      "<class 'numpy.str_'>\n",
      "<class 'numpy.str_'>\n"
     ]
    }
   ],
   "source": [
    "arr1=np.array([2,3,5.6,'n'])\n",
    "print(arr1)\n",
    "print(type(arr1))\n",
    "print(type(arr1[0]))\n",
    "print(type(arr1[1]))\n",
    "print(type(arr1[2]))\n",
    "print(type(arr1[3]))"
   ]
  },
  {
   "cell_type": "code",
   "execution_count": null,
   "id": "0e3ef489",
   "metadata": {},
   "outputs": [
    {
     "name": "stdout",
     "output_type": "stream",
     "text": [
      "<class 'numpy.ndarray'>\n",
      "float64\n",
      "(2, 3)\n",
      "2\n"
     ]
    }
   ],
   "source": [
    "arr2=np.array([[1, 2, 3.0], [4, 5, 6]])\n",
    "print(type(arr2))\n",
    "print(arr2.dtype)\n",
    "print(arr2.shape)\n",
    "print(arr2.ndim)"
   ]
  },
  {
   "cell_type": "markdown",
   "id": "b52c1055",
   "metadata": {},
   "source": [
    "### 2. Generater arrays using arange() and linspace()\n",
    "\n",
    "numpy.linspace(start, stop, num): Return evenly spaced numbers over a specified interval.\n",
    "numpy.arange(start, stop, step): Return evenly spaced values within a given interval."
   ]
  },
  {
   "cell_type": "code",
   "execution_count": null,
   "id": "0f24fb6f-1dd6-4e08-90cf-fc6f25ae9cbe",
   "metadata": {
    "tags": []
   },
   "outputs": [
    {
     "data": {
      "text/plain": [
       "array([10, 15, 20, 25, 30, 35, 40, 45, 50, 55, 60, 65, 70, 75, 80, 85, 90,\n",
       "       95])"
      ]
     },
     "execution_count": 23,
     "metadata": {},
     "output_type": "execute_result"
    }
   ],
   "source": [
    "np.arange(10,100,5)"
   ]
  },
  {
   "cell_type": "code",
   "execution_count": null,
   "id": "371abb99-2f02-4a40-ac75-a7543b25d0ed",
   "metadata": {
    "tags": []
   },
   "outputs": [
    {
     "data": {
      "text/plain": [
       "array([ 10. ,  32.5,  55. ,  77.5, 100. ])"
      ]
     },
     "execution_count": 24,
     "metadata": {},
     "output_type": "execute_result"
    }
   ],
   "source": [
    "np.linspace(10,100,5)"
   ]
  },
  {
   "cell_type": "code",
   "execution_count": null,
   "id": "798e97c5",
   "metadata": {},
   "outputs": [
    {
     "name": "stdout",
     "output_type": "stream",
     "text": [
      "[10 13 16 19 22 25 28]\n"
     ]
    }
   ],
   "source": [
    "a1 = np.arange(start=10,stop=30,step=3)\n",
    "print(a1)"
   ]
  },
  {
   "cell_type": "code",
   "execution_count": null,
   "id": "15832055",
   "metadata": {},
   "outputs": [],
   "source": [
    "# Task: Create array of elements between 70 to 50 with 5 difference"
   ]
  },
  {
   "cell_type": "code",
   "execution_count": null,
   "id": "6e81c16e",
   "metadata": {},
   "outputs": [
    {
     "data": {
      "text/plain": [
       "array([20. , 22.5, 25. , 27.5, 30. ])"
      ]
     },
     "execution_count": 13,
     "metadata": {},
     "output_type": "execute_result"
    }
   ],
   "source": [
    "np.linspace(20.0, 30.0, num=5)"
   ]
  },
  {
   "cell_type": "code",
   "execution_count": null,
   "id": "2005aa4c-4413-41d7-94e9-fd0a25b22120",
   "metadata": {
    "tags": []
   },
   "outputs": [
    {
     "data": {
      "text/plain": [
       "array([[ 0,  1,  2],\n",
       "       [ 3,  4,  5],\n",
       "       [ 6,  7,  8],\n",
       "       [ 9, 10, 11],\n",
       "       [12, 13, 14]])"
      ]
     },
     "execution_count": 14,
     "metadata": {},
     "output_type": "execute_result"
    }
   ],
   "source": [
    "np.arange(15).reshape(5,3)"
   ]
  },
  {
   "cell_type": "markdown",
   "id": "8f5db8df",
   "metadata": {},
   "source": [
    "### 3. Generate arrays using ones or zeros"
   ]
  },
  {
   "cell_type": "code",
   "execution_count": null,
   "id": "6505f726",
   "metadata": {},
   "outputs": [
    {
     "name": "stdout",
     "output_type": "stream",
     "text": [
      "[1. 1. 1.]\n"
     ]
    }
   ],
   "source": [
    "print(np.ones(3))"
   ]
  },
  {
   "cell_type": "code",
   "execution_count": null,
   "id": "4309fc60",
   "metadata": {},
   "outputs": [
    {
     "name": "stdout",
     "output_type": "stream",
     "text": [
      "[[1. 1. 1.]\n",
      " [1. 1. 1.]\n",
      " [1. 1. 1.]]\n"
     ]
    }
   ],
   "source": [
    "print(np.ones((3, 3)))"
   ]
  },
  {
   "cell_type": "code",
   "execution_count": null,
   "id": "a69eada4",
   "metadata": {},
   "outputs": [
    {
     "name": "stdout",
     "output_type": "stream",
     "text": [
      "[[1 1 1]\n",
      " [1 1 1]\n",
      " [1 1 1]]\n"
     ]
    }
   ],
   "source": [
    "print(np.ones((3, 3),int))"
   ]
  },
  {
   "cell_type": "code",
   "execution_count": null,
   "id": "d2c2f1a2",
   "metadata": {},
   "outputs": [
    {
     "name": "stdout",
     "output_type": "stream",
     "text": [
      "[0. 0. 0.]\n"
     ]
    }
   ],
   "source": [
    "print(np.zeros(3))"
   ]
  },
  {
   "cell_type": "code",
   "execution_count": null,
   "id": "2cf5077d",
   "metadata": {},
   "outputs": [
    {
     "name": "stdout",
     "output_type": "stream",
     "text": [
      "[[0. 0. 0.]\n",
      " [0. 0. 0.]\n",
      " [0. 0. 0.]]\n"
     ]
    }
   ],
   "source": [
    "print(np.zeros((3,3)))"
   ]
  },
  {
   "cell_type": "code",
   "execution_count": null,
   "id": "c2f7a12a",
   "metadata": {},
   "outputs": [
    {
     "data": {
      "text/plain": [
       "array([[7, 7],\n",
       "       [7, 7]])"
      ]
     },
     "execution_count": 17,
     "metadata": {},
     "output_type": "execute_result"
    }
   ],
   "source": [
    "np.full((2,2), 7) # Create a constant array"
   ]
  },
  {
   "cell_type": "code",
   "execution_count": null,
   "id": "6a6e353d",
   "metadata": {},
   "outputs": [
    {
     "name": "stdout",
     "output_type": "stream",
     "text": [
      "[[1. 0. 0. 0. 0. 0. 0. 0. 0. 0. 0. 0. 0. 0. 0. 0. 0. 0. 0. 0.]\n",
      " [0. 1. 0. 0. 0. 0. 0. 0. 0. 0. 0. 0. 0. 0. 0. 0. 0. 0. 0. 0.]\n",
      " [0. 0. 1. 0. 0. 0. 0. 0. 0. 0. 0. 0. 0. 0. 0. 0. 0. 0. 0. 0.]\n",
      " [0. 0. 0. 1. 0. 0. 0. 0. 0. 0. 0. 0. 0. 0. 0. 0. 0. 0. 0. 0.]\n",
      " [0. 0. 0. 0. 1. 0. 0. 0. 0. 0. 0. 0. 0. 0. 0. 0. 0. 0. 0. 0.]\n",
      " [0. 0. 0. 0. 0. 1. 0. 0. 0. 0. 0. 0. 0. 0. 0. 0. 0. 0. 0. 0.]\n",
      " [0. 0. 0. 0. 0. 0. 1. 0. 0. 0. 0. 0. 0. 0. 0. 0. 0. 0. 0. 0.]\n",
      " [0. 0. 0. 0. 0. 0. 0. 1. 0. 0. 0. 0. 0. 0. 0. 0. 0. 0. 0. 0.]\n",
      " [0. 0. 0. 0. 0. 0. 0. 0. 1. 0. 0. 0. 0. 0. 0. 0. 0. 0. 0. 0.]\n",
      " [0. 0. 0. 0. 0. 0. 0. 0. 0. 1. 0. 0. 0. 0. 0. 0. 0. 0. 0. 0.]\n",
      " [0. 0. 0. 0. 0. 0. 0. 0. 0. 0. 1. 0. 0. 0. 0. 0. 0. 0. 0. 0.]\n",
      " [0. 0. 0. 0. 0. 0. 0. 0. 0. 0. 0. 1. 0. 0. 0. 0. 0. 0. 0. 0.]\n",
      " [0. 0. 0. 0. 0. 0. 0. 0. 0. 0. 0. 0. 1. 0. 0. 0. 0. 0. 0. 0.]\n",
      " [0. 0. 0. 0. 0. 0. 0. 0. 0. 0. 0. 0. 0. 1. 0. 0. 0. 0. 0. 0.]\n",
      " [0. 0. 0. 0. 0. 0. 0. 0. 0. 0. 0. 0. 0. 0. 1. 0. 0. 0. 0. 0.]\n",
      " [0. 0. 0. 0. 0. 0. 0. 0. 0. 0. 0. 0. 0. 0. 0. 1. 0. 0. 0. 0.]\n",
      " [0. 0. 0. 0. 0. 0. 0. 0. 0. 0. 0. 0. 0. 0. 0. 0. 1. 0. 0. 0.]\n",
      " [0. 0. 0. 0. 0. 0. 0. 0. 0. 0. 0. 0. 0. 0. 0. 0. 0. 1. 0. 0.]\n",
      " [0. 0. 0. 0. 0. 0. 0. 0. 0. 0. 0. 0. 0. 0. 0. 0. 0. 0. 1. 0.]\n",
      " [0. 0. 0. 0. 0. 0. 0. 0. 0. 0. 0. 0. 0. 0. 0. 0. 0. 0. 0. 1.]]\n"
     ]
    }
   ],
   "source": [
    "print(np.eye(20))"
   ]
  },
  {
   "cell_type": "markdown",
   "id": "0f53b1f5",
   "metadata": {},
   "source": [
    "#### 4. Generate arrays using random.rand( )\n",
    "- numpy.random.rand()- returns an array of given shape filled with random values\n",
    "- Syntax:numpy.random.rand(shape)\n",
    "- shape - integer or sequence of integers"
   ]
  },
  {
   "cell_type": "code",
   "execution_count": 3,
   "id": "4c46154d",
   "metadata": {},
   "outputs": [
    {
     "data": {
      "text/plain": [
       "array([0.56175899, 0.62626575, 0.03344618, 0.07186429, 0.0372471 ])"
      ]
     },
     "execution_count": 3,
     "metadata": {},
     "output_type": "execute_result"
    }
   ],
   "source": [
    "#Create 1D array of 5 random numbers between 0 and 1\n",
    "np.random.rand(5)"
   ]
  },
  {
   "cell_type": "code",
   "execution_count": null,
   "id": "f6e002e7",
   "metadata": {
    "tags": []
   },
   "outputs": [
    {
     "data": {
      "text/plain": [
       "array([[0.8 , 0.79, 0.49, 0.46, 0.6 ],\n",
       "       [0.4 , 0.38, 0.13, 0.42, 0.82],\n",
       "       [0.09, 0.81, 0.49, 0.68, 0.4 ],\n",
       "       [0.65, 0.89, 0.88, 0.62, 0.11],\n",
       "       [0.06, 0.2 , 0.73, 0.71, 0.29],\n",
       "       [0.67, 0.03, 0.16, 0.48, 0.65],\n",
       "       [0.44, 0.37, 0.79, 0.08, 0.65]])"
      ]
     },
     "execution_count": 29,
     "metadata": {},
     "output_type": "execute_result"
    }
   ],
   "source": [
    "#Create 2D array of 35 random numbers between 0 and 1\n",
    "x1 = np.random.rand(7,5)\n",
    "np.around(x1, decimals = 2)"
   ]
  },
  {
   "cell_type": "code",
   "execution_count": null,
   "id": "8a41ef87",
   "metadata": {},
   "outputs": [
    {
     "data": {
      "text/plain": [
       "array([[131, 123, 138, 148, 132],\n",
       "       [139, 130, 101, 146, 136],\n",
       "       [103, 124, 132, 113, 137],\n",
       "       [109, 115, 139, 141, 127],\n",
       "       [103, 129, 119, 138, 142],\n",
       "       [126, 121, 122, 112, 126],\n",
       "       [101, 100, 123, 125, 102]])"
      ]
     },
     "execution_count": 27,
     "metadata": {},
     "output_type": "execute_result"
    }
   ],
   "source": [
    "# Create 2D array of 35 random int elements between 100 to 150\n",
    "np.random.randint(100,150,(7,5))"
   ]
  },
  {
   "cell_type": "code",
   "execution_count": null,
   "id": "c4dde70f",
   "metadata": {},
   "outputs": [
    {
     "name": "stdout",
     "output_type": "stream",
     "text": [
      "[0.97360656 0.29163634 0.6562037 ]\n"
     ]
    }
   ],
   "source": [
    "#Sampling over uniform distribution on [0,1)\n",
    "print(np.random.random(3))"
   ]
  },
  {
   "cell_type": "code",
   "execution_count": null,
   "id": "e33c60da",
   "metadata": {},
   "outputs": [
    {
     "name": "stdout",
     "output_type": "stream",
     "text": [
      "[[0.3231916  0.23941253]\n",
      " [0.40944919 0.69110538]]\n"
     ]
    }
   ],
   "source": [
    "print(np.random.random((2, 2)))"
   ]
  },
  {
   "cell_type": "code",
   "execution_count": null,
   "id": "70ac7043",
   "metadata": {},
   "outputs": [],
   "source": [
    "#Sampling over standard normal distribution\n",
    "x1 = np.random.randn(3000,3000)\n",
    "print(x1.std())\n",
    "print(x1.mean())"
   ]
  },
  {
   "cell_type": "markdown",
   "id": "a9a9924e",
   "metadata": {},
   "source": [
    "#### Why NumPy and not list\n",
    "\n",
    "1. Speed - Array is faster than list\n",
    "2. Memory Storage - Array takes less memory than list"
   ]
  },
  {
   "cell_type": "code",
   "execution_count": 10,
   "id": "fbc3e074",
   "metadata": {},
   "outputs": [
    {
     "name": "stdout",
     "output_type": "stream",
     "text": [
      "0.10361266136169434\n"
     ]
    }
   ],
   "source": [
    "import time\n",
    "# Consider case for List\n",
    "py_list=[i for i in range(1000000)]\n",
    "start=time.time()\n",
    "py_list=[i+4 for i in py_list]\n",
    "stop=time.time()\n",
    "print(stop-start)"
   ]
  },
  {
   "cell_type": "code",
   "execution_count": 11,
   "id": "da7032d3",
   "metadata": {},
   "outputs": [
    {
     "name": "stdout",
     "output_type": "stream",
     "text": [
      "0.006471872329711914\n"
     ]
    }
   ],
   "source": [
    "# Consider case for Numpy Array\n",
    "py_arr=np.array([i for i in range(1000000)])\n",
    "start=time.time()\n",
    "py_arr=py_arr+4\n",
    "stop=time.time()\n",
    "print(stop-start)"
   ]
  },
  {
   "cell_type": "code",
   "execution_count": 9,
   "id": "3770da69",
   "metadata": {},
   "outputs": [
    {
     "name": "stdout",
     "output_type": "stream",
     "text": [
      "<class 'numpy.ndarray'>\n",
      "100\n",
      "Total space taken by a1 is 400\n"
     ]
    }
   ],
   "source": [
    "import sys\n",
    "a1=np.arange(100)\n",
    "print(type(a1))\n",
    "print(a1.size)\n",
    "print(\"Total space taken by a1 is\",a1.itemsize*100)"
   ]
  },
  {
   "cell_type": "code",
   "execution_count": 10,
   "id": "27d3e521",
   "metadata": {},
   "outputs": [
    {
     "name": "stdout",
     "output_type": "stream",
     "text": [
      "Total size taken by l1 = 2400\n"
     ]
    }
   ],
   "source": [
    "l1=[i for i in range(100)]\n",
    "print(\"Total size taken by l1 =\",sys.getsizeof(l1[0])*len(l1))"
   ]
  },
  {
   "cell_type": "markdown",
   "id": "dd03eb6f",
   "metadata": {},
   "source": [
    "## Array shape and reshape"
   ]
  },
  {
   "cell_type": "code",
   "execution_count": 34,
   "id": "1a3e2d90",
   "metadata": {},
   "outputs": [
    {
     "name": "stdout",
     "output_type": "stream",
     "text": [
      "[[1 2 3 4]\n",
      " [6 7 8 9]]\n",
      "(2, 4)\n"
     ]
    }
   ],
   "source": [
    "array_2d=np.array([[1,2,3,4],[6,7,8,9]])\n",
    "print(array_2d)\n",
    "print(array_2d.shape)"
   ]
  },
  {
   "cell_type": "code",
   "execution_count": 36,
   "id": "3cb7b3b2",
   "metadata": {},
   "outputs": [
    {
     "data": {
      "text/plain": [
       "array([[1, 2],\n",
       "       [3, 4],\n",
       "       [6, 7],\n",
       "       [8, 9]])"
      ]
     },
     "execution_count": 36,
     "metadata": {},
     "output_type": "execute_result"
    }
   ],
   "source": [
    "array_2d.reshape(4,2)"
   ]
  },
  {
   "cell_type": "code",
   "execution_count": 35,
   "id": "0e6426fe",
   "metadata": {},
   "outputs": [
    {
     "data": {
      "text/plain": [
       "array([[1, 2, 3, 4, 6, 7, 8, 9]])"
      ]
     },
     "execution_count": 35,
     "metadata": {},
     "output_type": "execute_result"
    }
   ],
   "source": [
    "array_2d.reshape(1,8)"
   ]
  },
  {
   "cell_type": "code",
   "execution_count": 13,
   "id": "7f712871",
   "metadata": {},
   "outputs": [
    {
     "data": {
      "text/plain": [
       "(4,)"
      ]
     },
     "execution_count": 13,
     "metadata": {},
     "output_type": "execute_result"
    }
   ],
   "source": [
    "array_1d = np.array([1, 2, 3, 4])\n",
    "array_1d.shape"
   ]
  },
  {
   "cell_type": "code",
   "execution_count": 14,
   "id": "74df113a",
   "metadata": {},
   "outputs": [
    {
     "data": {
      "text/plain": [
       "array([[1, 2, 3, 4]])"
      ]
     },
     "execution_count": 14,
     "metadata": {},
     "output_type": "execute_result"
    }
   ],
   "source": [
    "array_1d.reshape(-1, 4)"
   ]
  },
  {
   "cell_type": "code",
   "execution_count": 39,
   "id": "3ef0b8f0",
   "metadata": {},
   "outputs": [
    {
     "name": "stdout",
     "output_type": "stream",
     "text": [
      "(1, 4)\n"
     ]
    }
   ],
   "source": [
    "print(array_1d.reshape(-1, 4).shape)"
   ]
  },
  {
   "cell_type": "code",
   "execution_count": 41,
   "id": "d632d2bf",
   "metadata": {},
   "outputs": [
    {
     "name": "stdout",
     "output_type": "stream",
     "text": [
      "4\n"
     ]
    }
   ],
   "source": [
    "print(array_1d.size)"
   ]
  },
  {
   "cell_type": "code",
   "execution_count": 19,
   "id": "7ccefd89",
   "metadata": {},
   "outputs": [
    {
     "name": "stdout",
     "output_type": "stream",
     "text": [
      "[[  0   1   2   3   4   5   6   7   8   9  10  11  12  13  14  15  16  17\n",
      "   18  19]\n",
      " [ 20  21  22  23  24  25  26  27  28  29  30  31  32  33  34  35  36  37\n",
      "   38  39]\n",
      " [ 40  41  42  43  44  45  46  47  48  49  50  51  52  53  54  55  56  57\n",
      "   58  59]\n",
      " [ 60  61  62  63  64  65  66  67  68  69  70  71  72  73  74  75  76  77\n",
      "   78  79]\n",
      " [ 80  81  82  83  84  85  86  87  88  89  90  91  92  93  94  95  96  97\n",
      "   98  99]\n",
      " [100 101 102 103 104 105 106 107 108 109 110 111 112 113 114 115 116 117\n",
      "  118 119]\n",
      " [120 121 122 123 124 125 126 127 128 129 130 131 132 133 134 135 136 137\n",
      "  138 139]\n",
      " [140 141 142 143 144 145 146 147 148 149 150 151 152 153 154 155 156 157\n",
      "  158 159]\n",
      " [160 161 162 163 164 165 166 167 168 169 170 171 172 173 174 175 176 177\n",
      "  178 179]\n",
      " [180 181 182 183 184 185 186 187 188 189 190 191 192 193 194 195 196 197\n",
      "  198 199]\n",
      " [200 201 202 203 204 205 206 207 208 209 210 211 212 213 214 215 216 217\n",
      "  218 219]\n",
      " [220 221 222 223 224 225 226 227 228 229 230 231 232 233 234 235 236 237\n",
      "  238 239]\n",
      " [240 241 242 243 244 245 246 247 248 249 250 251 252 253 254 255 256 257\n",
      "  258 259]\n",
      " [260 261 262 263 264 265 266 267 268 269 270 271 272 273 274 275 276 277\n",
      "  278 279]\n",
      " [280 281 282 283 284 285 286 287 288 289 290 291 292 293 294 295 296 297\n",
      "  298 299]\n",
      " [300 301 302 303 304 305 306 307 308 309 310 311 312 313 314 315 316 317\n",
      "  318 319]\n",
      " [320 321 322 323 324 325 326 327 328 329 330 331 332 333 334 335 336 337\n",
      "  338 339]\n",
      " [340 341 342 343 344 345 346 347 348 349 350 351 352 353 354 355 356 357\n",
      "  358 359]\n",
      " [360 361 362 363 364 365 366 367 368 369 370 371 372 373 374 375 376 377\n",
      "  378 379]\n",
      " [380 381 382 383 384 385 386 387 388 389 390 391 392 393 394 395 396 397\n",
      "  398 399]]\n",
      "[  0  20  40  60  80 100 120 140 160 180 200 220 240 260 280 300 320 340\n",
      " 360 380]\n"
     ]
    }
   ],
   "source": [
    "create_array = np.array([i for i in range(400)])\n",
    "new_array = create_array.reshape((20, 20))\n",
    "print(new_array)\n",
    "print(new_array[:, 0])"
   ]
  },
  {
   "cell_type": "code",
   "execution_count": 43,
   "id": "08590b5b",
   "metadata": {},
   "outputs": [],
   "source": [
    "sample_3d_array = np.array([i for i in range(1000)])\n",
    "sample_3d_array = sample_3d_array.reshape((10, 10, 10))"
   ]
  },
  {
   "cell_type": "code",
   "execution_count": 44,
   "id": "7c5fcd43",
   "metadata": {},
   "outputs": [
    {
     "name": "stdout",
     "output_type": "stream",
     "text": [
      "[ 11 111 211 311 411 511 611 711 811 911]\n"
     ]
    }
   ],
   "source": [
    "print(sample_3d_array[:,1,1])"
   ]
  },
  {
   "cell_type": "code",
   "execution_count": 46,
   "id": "16d8a6e2",
   "metadata": {},
   "outputs": [
    {
     "name": "stdout",
     "output_type": "stream",
     "text": [
      "[201 211 221 231 241 251 261 271 281 291]\n"
     ]
    }
   ],
   "source": [
    "print(sample_3d_array[2, :, 1])"
   ]
  },
  {
   "cell_type": "code",
   "execution_count": 47,
   "id": "d86b2498",
   "metadata": {},
   "outputs": [
    {
     "name": "stdout",
     "output_type": "stream",
     "text": [
      "[230 231 232 233 234 235 236 237 238 239]\n"
     ]
    }
   ],
   "source": [
    "print(sample_3d_array[2, 3, :])"
   ]
  },
  {
   "cell_type": "code",
   "execution_count": 48,
   "id": "5fa0ff76",
   "metadata": {},
   "outputs": [
    {
     "name": "stdout",
     "output_type": "stream",
     "text": [
      "[[100 101 102 103 104 105 106 107 108 109]\n",
      " [110 111 112 113 114 115 116 117 118 119]\n",
      " [120 121 122 123 124 125 126 127 128 129]\n",
      " [130 131 132 133 134 135 136 137 138 139]\n",
      " [140 141 142 143 144 145 146 147 148 149]\n",
      " [150 151 152 153 154 155 156 157 158 159]\n",
      " [160 161 162 163 164 165 166 167 168 169]\n",
      " [170 171 172 173 174 175 176 177 178 179]\n",
      " [180 181 182 183 184 185 186 187 188 189]\n",
      " [190 191 192 193 194 195 196 197 198 199]]\n"
     ]
    }
   ],
   "source": [
    "print(sample_3d_array[1, :, :])"
   ]
  },
  {
   "cell_type": "code",
   "execution_count": 50,
   "id": "3bf6b8bf",
   "metadata": {},
   "outputs": [
    {
     "data": {
      "text/plain": [
       "array([0, 1, 2, 3])"
      ]
     },
     "execution_count": 50,
     "metadata": {},
     "output_type": "execute_result"
    }
   ],
   "source": [
    "a1 = np.arange(4)\n",
    "a1"
   ]
  },
  {
   "cell_type": "code",
   "execution_count": 52,
   "id": "9995cdcc",
   "metadata": {},
   "outputs": [
    {
     "name": "stdout",
     "output_type": "stream",
     "text": [
      "[[0 1]\n",
      " [2 3]]\n"
     ]
    }
   ],
   "source": [
    "print(np.reshape(a1,(2,2), order = 'C'))"
   ]
  },
  {
   "cell_type": "code",
   "execution_count": 53,
   "id": "77ff3c54",
   "metadata": {},
   "outputs": [
    {
     "name": "stdout",
     "output_type": "stream",
     "text": [
      "[[0 2]\n",
      " [1 3]]\n"
     ]
    }
   ],
   "source": [
    "print(np.reshape(a1,(2,2), order = 'F'))"
   ]
  },
  {
   "cell_type": "markdown",
   "id": "629ecec6",
   "metadata": {},
   "source": [
    "## Numpy math"
   ]
  },
  {
   "cell_type": "code",
   "execution_count": 54,
   "id": "9a1120bd",
   "metadata": {},
   "outputs": [
    {
     "name": "stdout",
     "output_type": "stream",
     "text": [
      "[15 25 35 45]\n",
      "[ 50 100 150 200]\n",
      "[3.16227766 4.47213595 5.47722558 6.32455532]\n",
      "[ 100  400  900 1600]\n",
      "[2.20264658e+04 4.85165195e+08 1.06864746e+13 2.35385267e+17]\n",
      "[2.30258509 2.99573227 3.40119738 3.68887945]\n"
     ]
    }
   ],
   "source": [
    "a1 = np.array([10,20,30,40])\n",
    "\n",
    "# element wise operations!!\n",
    "\n",
    "print(a1 + 5)\n",
    "print(a1 * 5)\n",
    "print(np.sqrt(a1))\n",
    "print(np.power(a1, 2))\n",
    "print(np.exp(a1))\n",
    "print(np.log(a1))"
   ]
  },
  {
   "cell_type": "code",
   "execution_count": 56,
   "id": "aad471cb",
   "metadata": {},
   "outputs": [
    {
     "name": "stdout",
     "output_type": "stream",
     "text": [
      "[[1 2 3]\n",
      " [4 5 6]\n",
      " [7 8 9]]\n",
      "shape=(3, 3)\n",
      "45\n",
      "[12 15 18]\n",
      "[ 6 15 24]\n"
     ]
    }
   ],
   "source": [
    "a_2d = np.array([[1, 2, 3], [4, 5, 6], [7, 8, 9]])\n",
    "print(a_2d)\n",
    "print(f'shape={a_2d.shape}')\n",
    "print(np.sum(a_2d))\n",
    "print(np.sum(a_2d, axis=0))\n",
    "print(np.sum(a_2d, axis=1))"
   ]
  },
  {
   "cell_type": "code",
   "execution_count": 5,
   "id": "1ef764db-874c-4147-8ba8-a22e9a0126eb",
   "metadata": {
    "tags": []
   },
   "outputs": [
    {
     "name": "stdout",
     "output_type": "stream",
     "text": [
      "[[1 2 3]\n",
      " [4 5 6]\n",
      " [7 8 9]]\n",
      "shape=(3, 3)\n",
      "[ 1  3  6 10 15 21 28 36 45]\n",
      "[[ 1  2  3]\n",
      " [ 5  7  9]\n",
      " [12 15 18]]\n",
      "[[ 1  3  6]\n",
      " [ 4  9 15]\n",
      " [ 7 15 24]]\n"
     ]
    }
   ],
   "source": [
    "a_2d = np.array([[1, 2, 3], [4, 5, 6], [7, 8, 9]])\n",
    "print(a_2d)\n",
    "print(f'shape={a_2d.shape}')\n",
    "print(np.cumsum(a_2d))\n",
    "print(np.cumsum(a_2d, axis=0))\n",
    "print(np.cumsum(a_2d, axis=1))"
   ]
  },
  {
   "cell_type": "code",
   "execution_count": 57,
   "id": "2e80c782",
   "metadata": {},
   "outputs": [
    {
     "name": "stdout",
     "output_type": "stream",
     "text": [
      "[[[ 0  1  2]\n",
      "  [ 3  4  5]\n",
      "  [ 6  7  8]]\n",
      "\n",
      " [[ 9 10 11]\n",
      "  [12 13 14]\n",
      "  [15 16 17]]\n",
      "\n",
      " [[18 19 20]\n",
      "  [21 22 23]\n",
      "  [24 25 26]]]\n",
      "[[27 30 33]\n",
      " [36 39 42]\n",
      " [45 48 51]]\n",
      "[[ 9 12 15]\n",
      " [36 39 42]\n",
      " [63 66 69]]\n",
      "[ 36 117 198]\n"
     ]
    }
   ],
   "source": [
    "a_3d = np.array([i for i in range(27)]).reshape((3, 3, 3))\n",
    "print(a_3d)\n",
    "print(np.sum(a_3d, axis=0))\n",
    "print(np.sum(a_3d, axis=1))\n",
    "print(np.sum(a_3d, axis=(1, 2)))"
   ]
  },
  {
   "cell_type": "code",
   "execution_count": 14,
   "id": "d406a747",
   "metadata": {},
   "outputs": [
    {
     "name": "stdout",
     "output_type": "stream",
     "text": [
      "[ 5 12 21 32]\n"
     ]
    }
   ],
   "source": [
    "a1 = np.array([1, 2, 3, 4])\n",
    "a2 = np.array([5, 6, 7, 8])\n",
    "print(a1*a2) #element wise multiplication"
   ]
  },
  {
   "cell_type": "code",
   "execution_count": 60,
   "id": "7025e3e8",
   "metadata": {},
   "outputs": [
    {
     "name": "stdout",
     "output_type": "stream",
     "text": [
      "[ 5 12 21 32]\n"
     ]
    }
   ],
   "source": [
    "print(np.multiply(a1,a2))"
   ]
  },
  {
   "cell_type": "code",
   "execution_count": 61,
   "id": "2b612c5f",
   "metadata": {},
   "outputs": [
    {
     "name": "stdout",
     "output_type": "stream",
     "text": [
      "(4,)\n",
      "(4, 1)\n"
     ]
    }
   ],
   "source": [
    "print(a2.shape)\n",
    "print(a2.reshape(4,-1).shape)"
   ]
  },
  {
   "cell_type": "code",
   "execution_count": 63,
   "id": "88c94bca",
   "metadata": {},
   "outputs": [
    {
     "data": {
      "text/plain": [
       "array([[5],\n",
       "       [6],\n",
       "       [7],\n",
       "       [8]])"
      ]
     },
     "execution_count": 63,
     "metadata": {},
     "output_type": "execute_result"
    }
   ],
   "source": [
    "a2.reshape(4,-1)"
   ]
  },
  {
   "cell_type": "code",
   "execution_count": 62,
   "id": "93ed8d0b",
   "metadata": {},
   "outputs": [
    {
     "name": "stdout",
     "output_type": "stream",
     "text": [
      "[[ 5 10 15 20]\n",
      " [ 6 12 18 24]\n",
      " [ 7 14 21 28]\n",
      " [ 8 16 24 32]]\n"
     ]
    }
   ],
   "source": [
    "print(a1 * a2.reshape(4,-1))"
   ]
  },
  {
   "cell_type": "markdown",
   "id": "86e19b98",
   "metadata": {},
   "source": [
    "Doing Dot product in multiple ways"
   ]
  },
  {
   "cell_type": "code",
   "execution_count": 64,
   "id": "e99b2aa0",
   "metadata": {},
   "outputs": [
    {
     "data": {
      "text/plain": [
       "70"
      ]
     },
     "execution_count": 64,
     "metadata": {},
     "output_type": "execute_result"
    }
   ],
   "source": [
    "a1.dot(a2)"
   ]
  },
  {
   "cell_type": "code",
   "execution_count": 65,
   "id": "2dbb2bc4",
   "metadata": {},
   "outputs": [
    {
     "data": {
      "text/plain": [
       "70"
      ]
     },
     "execution_count": 65,
     "metadata": {},
     "output_type": "execute_result"
    }
   ],
   "source": [
    "np.sum(a1*a2)"
   ]
  },
  {
   "cell_type": "code",
   "execution_count": 66,
   "id": "78e1901d",
   "metadata": {},
   "outputs": [
    {
     "data": {
      "text/plain": [
       "70"
      ]
     },
     "execution_count": 66,
     "metadata": {},
     "output_type": "execute_result"
    }
   ],
   "source": [
    "a1 @ a2 # similar to np.matmul(a1,a2)"
   ]
  },
  {
   "cell_type": "code",
   "execution_count": 69,
   "id": "4d5ae652",
   "metadata": {},
   "outputs": [
    {
     "data": {
      "text/plain": [
       "70"
      ]
     },
     "execution_count": 69,
     "metadata": {},
     "output_type": "execute_result"
    }
   ],
   "source": [
    "a1.dot(a2.T)"
   ]
  },
  {
   "cell_type": "markdown",
   "id": "6c8683eb",
   "metadata": {},
   "source": [
    "Angle between a1 and a2: $\\cos \\theta = \\frac{a_1,a_2}{|a_1||a_2|}$"
   ]
  },
  {
   "cell_type": "code",
   "execution_count": 16,
   "id": "499c8d4c",
   "metadata": {},
   "outputs": [
    {
     "data": {
      "text/plain": [
       "0.9688639316269662"
      ]
     },
     "execution_count": 16,
     "metadata": {},
     "output_type": "execute_result"
    }
   ],
   "source": [
    "np.dot(a1,a2)/(np.linalg.norm(a1) * np.linalg.norm(a2))"
   ]
  },
  {
   "cell_type": "code",
   "execution_count": 23,
   "id": "8d28334d",
   "metadata": {},
   "outputs": [
    {
     "data": {
      "text/plain": [
       "array([ 0.        ,  0.84147098,  0.90929743,  0.14112001, -0.7568025 ])"
      ]
     },
     "execution_count": 23,
     "metadata": {},
     "output_type": "execute_result"
    }
   ],
   "source": [
    "#Transcendental Functions\n",
    "\n",
    "a1 = np.arange(5)\n",
    "np.sin(a1)"
   ]
  },
  {
   "cell_type": "code",
   "execution_count": 25,
   "id": "a8b10911",
   "metadata": {},
   "outputs": [
    {
     "data": {
      "text/plain": [
       "array([ 1.        ,  2.71828183,  7.3890561 , 20.08553692, 54.59815003])"
      ]
     },
     "execution_count": 25,
     "metadata": {},
     "output_type": "execute_result"
    }
   ],
   "source": [
    "np.exp(a1)"
   ]
  },
  {
   "cell_type": "code",
   "execution_count": 26,
   "id": "a0d2a61b",
   "metadata": {},
   "outputs": [
    {
     "data": {
      "text/plain": [
       "array([0., 1., 2., 3., 4.])"
      ]
     },
     "execution_count": 26,
     "metadata": {},
     "output_type": "execute_result"
    }
   ],
   "source": [
    "np.log(np.exp(a1))"
   ]
  },
  {
   "cell_type": "code",
   "execution_count": 18,
   "id": "29cfdb30",
   "metadata": {},
   "outputs": [
    {
     "data": {
      "text/plain": [
       "array([[19, 22],\n",
       "       [43, 50]])"
      ]
     },
     "execution_count": 18,
     "metadata": {},
     "output_type": "execute_result"
    }
   ],
   "source": [
    "# Check for 2d arrays\n",
    "mat1 = np.array([[1,2],[3,4]])\n",
    "mat2 = np.array([[5,6],[7,8]])\n",
    "np.matmul(mat1, mat2)"
   ]
  },
  {
   "cell_type": "code",
   "execution_count": 73,
   "id": "26b20690",
   "metadata": {},
   "outputs": [
    {
     "data": {
      "text/plain": [
       "array([[ 5, 12],\n",
       "       [21, 32]])"
      ]
     },
     "execution_count": 73,
     "metadata": {},
     "output_type": "execute_result"
    }
   ],
   "source": [
    "np.multiply(mat1,mat2)"
   ]
  },
  {
   "cell_type": "code",
   "execution_count": 20,
   "id": "910a9bd0",
   "metadata": {},
   "outputs": [
    {
     "data": {
      "text/plain": [
       "-1.999999999999999"
      ]
     },
     "execution_count": 20,
     "metadata": {},
     "output_type": "execute_result"
    }
   ],
   "source": [
    "np.linalg.det(mat2) # to find the determinant of the matrix"
   ]
  },
  {
   "cell_type": "code",
   "execution_count": 21,
   "id": "3372ec3f",
   "metadata": {},
   "outputs": [
    {
     "data": {
      "text/plain": [
       "array([[-4. ,  3. ],\n",
       "       [ 3.5, -2.5]])"
      ]
     },
     "execution_count": 21,
     "metadata": {},
     "output_type": "execute_result"
    }
   ],
   "source": [
    "np.linalg.inv(mat2) # to find the inverse of the matrix"
   ]
  },
  {
   "cell_type": "markdown",
   "id": "6967f041",
   "metadata": {},
   "source": [
    "Note np.multiply is element-wise multiplication, not proper matrix multiplication\n",
    "\n",
    "we use matmul for 2D matrix multiplication. For dim>3, Numpy treats them as a stack of matrices. See __[Documentation on matmul](https://numpy.org/doc/stable/reference/generated/numpy.matmul.html)__"
   ]
  },
  {
   "cell_type": "markdown",
   "id": "87d1c445",
   "metadata": {},
   "source": [
    "Numpy can be used to construct the row vector and then transpose the corresponding vector"
   ]
  },
  {
   "cell_type": "code",
   "execution_count": 4,
   "id": "055e0a64",
   "metadata": {},
   "outputs": [
    {
     "name": "stdout",
     "output_type": "stream",
     "text": [
      "[[20]\n",
      " [30]\n",
      " [40]]\n"
     ]
    }
   ],
   "source": [
    "print(np.transpose(np.array([[20,30,40]])))"
   ]
  },
  {
   "cell_type": "code",
   "execution_count": 2,
   "id": "0bd8d35d",
   "metadata": {},
   "outputs": [
    {
     "name": "stdout",
     "output_type": "stream",
     "text": [
      "[[20]\n",
      " [30]\n",
      " [40]]\n"
     ]
    }
   ],
   "source": [
    "np.array([[20],[30],[40]])"
   ]
  },
  {
   "cell_type": "markdown",
   "id": "dab0f5e6",
   "metadata": {},
   "source": [
    "## Solving system of equations with NumPy\n",
    "\n",
    "In linear algebra, we mostly encounter a matrix-vector equation, where we solve for a vector x that satisfies the equation $A_1 x = b_1$\n",
    "\n",
    "Say we need to solve for x, y and z\n",
    "2 x + 3 y + z = 7\n",
    "3 x + 5 y + 2 z = 12\n",
    "x + y - z = -3"
   ]
  },
  {
   "cell_type": "code",
   "execution_count": 12,
   "id": "3b923f4a",
   "metadata": {},
   "outputs": [
    {
     "data": {
      "text/plain": [
       "array([[ 4.],\n",
       "       [-2.],\n",
       "       [ 5.]])"
      ]
     },
     "execution_count": 12,
     "metadata": {},
     "output_type": "execute_result"
    }
   ],
   "source": [
    "A1 = np.array([[2,3,1],[3,5,2],[1,1,-1]])\n",
    "B1 = np.transpose(np.array([[7,12,-3]]))\n",
    "np.linalg.solve(A1,B1)"
   ]
  },
  {
   "cell_type": "markdown",
   "id": "033abb87",
   "metadata": {},
   "source": [
    "## Array Broadcasting \n",
    "\n",
    "Numpy has capability to perform operations on arrays with different shapes, inferring/expanding dimension as needed. Taking examples from [Scipy's documentaiton on numpy](https://docs.scipy.org/doc/numpy/user/basics.broadcasting.html), some examples can be \n",
    "\n",
    "```\n",
    "A      (2d array):  5 x 4\n",
    "B      (1d array):      1\n",
    "Result (2d array):  5 x 4\n",
    "\n",
    "\n",
    "A      (3d array):  15 x 3 x 5\n",
    "B      (3d array):  15 x 1 x 5\n",
    "Result (3d array):  15 x 3 x 5\n",
    "\n",
    "A      (3d array):  15 x 3 x 5\n",
    "B      (2d array):       3 x 5\n",
    "Result (3d array):  15 x 3 x 5\n",
    "\n",
    "A      (3d array):  15 x 3 x 5\n",
    "B      (2d array):       3 x 1\n",
    "Result (3d array):  15 x 3 x 5\n",
    "```\n",
    "\n",
    "Essentially all dimensions of size 1 can be \"over-looked\" or \"expanded\" to match dimension from another operator. But the order of such must be matched. Dimension of size 1 is only prepended, not appended. For example, the following would not work, though you might think we can add another dimension at the end of B.\n",
    "\n",
    "```\n",
    "A      (3d array):  15 x 3 x 5\n",
    "B      (2d array):       1 x 3\n",
    "Result (3d array):  15 x 3 x 5\n",
    "```"
   ]
  },
  {
   "cell_type": "code",
   "execution_count": 75,
   "id": "dd409824",
   "metadata": {},
   "outputs": [
    {
     "name": "stdout",
     "output_type": "stream",
     "text": [
      "[[0 1 2]\n",
      " [3 4 5]\n",
      " [6 7 8]]\n",
      "\n",
      "[[1 2 3]]\n"
     ]
    }
   ],
   "source": [
    "a1 = np.array([i for i in range(9)]).reshape(3, 3)\n",
    "a2 = np.array([[1, 2, 3]])\n",
    "a3 = np.array([1, 2, 3])\n",
    "\n",
    "print(a1)\n",
    "print()\n",
    "print(a2)"
   ]
  },
  {
   "cell_type": "code",
   "execution_count": 77,
   "id": "edd3316c",
   "metadata": {},
   "outputs": [
    {
     "name": "stdout",
     "output_type": "stream",
     "text": [
      "(3, 3)\n",
      "\n",
      "(1, 3)\n"
     ]
    }
   ],
   "source": [
    "print(a1.shape)\n",
    "print()\n",
    "print(a2.shape)"
   ]
  },
  {
   "cell_type": "code",
   "execution_count": 78,
   "id": "69b2e793",
   "metadata": {},
   "outputs": [
    {
     "name": "stdout",
     "output_type": "stream",
     "text": [
      "[[ 1  3  5]\n",
      " [ 4  6  8]\n",
      " [ 7  9 11]]\n"
     ]
    }
   ],
   "source": [
    "print(a1+a2)"
   ]
  },
  {
   "cell_type": "code",
   "execution_count": 79,
   "id": "432fa72c",
   "metadata": {},
   "outputs": [
    {
     "name": "stdout",
     "output_type": "stream",
     "text": [
      "(3, 1)\n"
     ]
    }
   ],
   "source": [
    "print(a2.T.shape)"
   ]
  },
  {
   "cell_type": "code",
   "execution_count": 80,
   "id": "29c8253d",
   "metadata": {},
   "outputs": [
    {
     "data": {
      "text/plain": [
       "array([[ 1,  2,  3],\n",
       "       [ 5,  6,  7],\n",
       "       [ 9, 10, 11]])"
      ]
     },
     "execution_count": 80,
     "metadata": {},
     "output_type": "execute_result"
    }
   ],
   "source": [
    "a1 + a2.T"
   ]
  },
  {
   "cell_type": "markdown",
   "id": "df5a3fd7",
   "metadata": {},
   "source": [
    "Broadcasting won't work in the case for 3 $\\times$ 5 $\\times$ 2 with 1 $\\times$ 5. \n",
    "\n",
    "It will work for 3 $\\times$ 5 $\\times$ 2 with 5 $\\times$ 1"
   ]
  },
  {
   "cell_type": "code",
   "execution_count": 21,
   "id": "5d32f0e3",
   "metadata": {},
   "outputs": [
    {
     "name": "stdout",
     "output_type": "stream",
     "text": [
      "(3, 5, 2)\n",
      "\n",
      "(1, 5)\n"
     ]
    }
   ],
   "source": [
    "mat1 = np.array([i for i in range(30)]).reshape(3,5,2)\n",
    "mat2 = np.array([[1,2,3,4,5]])\n",
    "print(mat1.shape)\n",
    "print()\n",
    "print(mat2.shape)"
   ]
  },
  {
   "cell_type": "code",
   "execution_count": 22,
   "id": "383796b0",
   "metadata": {},
   "outputs": [
    {
     "ename": "ValueError",
     "evalue": "operands could not be broadcast together with shapes (3,5,2) (1,5) ",
     "output_type": "error",
     "traceback": [
      "\u001b[0;31m---------------------------------------------------------------------------\u001b[0m",
      "\u001b[0;31mValueError\u001b[0m                                Traceback (most recent call last)",
      "Cell \u001b[0;32mIn[22], line 1\u001b[0m\n\u001b[0;32m----> 1\u001b[0m \u001b[38;5;28mprint\u001b[39m(\u001b[43mmat1\u001b[49m\u001b[43m \u001b[49m\u001b[38;5;241;43m+\u001b[39;49m\u001b[43m \u001b[49m\u001b[43mmat2\u001b[49m)\n",
      "\u001b[0;31mValueError\u001b[0m: operands could not be broadcast together with shapes (3,5,2) (1,5) "
     ]
    }
   ],
   "source": [
    "print(mat1 + mat2)"
   ]
  },
  {
   "cell_type": "code",
   "execution_count": 87,
   "id": "79457eb5",
   "metadata": {},
   "outputs": [
    {
     "name": "stdout",
     "output_type": "stream",
     "text": [
      "(5, 1)\n"
     ]
    }
   ],
   "source": [
    "print(mat2.T.shape)"
   ]
  },
  {
   "cell_type": "code",
   "execution_count": 23,
   "id": "4a39b91c",
   "metadata": {},
   "outputs": [
    {
     "name": "stdout",
     "output_type": "stream",
     "text": [
      "[[[ 1  2]\n",
      "  [ 4  5]\n",
      "  [ 7  8]\n",
      "  [10 11]\n",
      "  [13 14]]\n",
      "\n",
      " [[11 12]\n",
      "  [14 15]\n",
      "  [17 18]\n",
      "  [20 21]\n",
      "  [23 24]]\n",
      "\n",
      " [[21 22]\n",
      "  [24 25]\n",
      "  [27 28]\n",
      "  [30 31]\n",
      "  [33 34]]]\n"
     ]
    }
   ],
   "source": [
    "print(mat1 + mat2.T)"
   ]
  },
  {
   "cell_type": "markdown",
   "id": "fc95d3b0-e542-4b2d-97ff-fa9dd9c439ea",
   "metadata": {},
   "source": [
    "### Write a script for the follows steps"
   ]
  },
  {
   "cell_type": "markdown",
   "id": "96de3f5b-c4e8-4ba2-8cc9-5195c67d4628",
   "metadata": {},
   "source": [
    "1. Generate an array (x) with 601 evenly spaced numbers in the range [-2, 1]\n",
    "2. Generate an array (y) with 401 evenly spaced numbers in the range [-1.5,1.5]\n",
    "3. Construct a grid of c = x + 1j* y"
   ]
  },
  {
   "cell_type": "code",
   "execution_count": 26,
   "id": "6c703b83-7940-403d-92a2-4035e7b6b74d",
   "metadata": {
    "tags": []
   },
   "outputs": [],
   "source": [
    "x = np.linspace(-2,1,601)\n",
    "y = np.linspace(-1.5,1.5,401)\n",
    "x_dash = x.reshape(601,1)\n",
    "c = x.reshape(601,-1)+1j*y .reshape(-1,401)"
   ]
  },
  {
   "cell_type": "markdown",
   "id": "7d9d4b65-a09e-44ab-8a47-e96de2d03305",
   "metadata": {},
   "source": [
    "1. Assign c to a variable z\n",
    "2. Do the iteration, $z_{N+1} = z^2_N +c$, where $N$ is the number of iteration, with $N_{max}$ = 50 times\n",
    "3. Form the 2-d boolean mask, where point $(x, y)$ belongs to the set if $|𝑧| < $ some_threshold (50.0).\n",
    "4. Do this computation by: indicating which points are in the set"
   ]
  },
  {
   "cell_type": "code",
   "execution_count": 7,
   "id": "1b612260-77c2-4b9d-90e9-6c8cb0195d12",
   "metadata": {
    "tags": []
   },
   "outputs": [],
   "source": [
    "z = c\n",
    "import warnings\n",
    "with warnings.catch_warnings():\n",
    "    warnings.simplefilter(\"ignore\")\n",
    "    for i in range(50):\n",
    "        z = z**2+c\n",
    "r = np.abs(z)<50.0"
   ]
  },
  {
   "cell_type": "markdown",
   "id": "e7727c6a-0e4a-4317-9567-7422d8e7fb98",
   "metadata": {},
   "source": [
    "#### You are encountering some warnings. The code overflows in many regions of the x-y grid, suppress warnings temporarily"
   ]
  },
  {
   "cell_type": "markdown",
   "id": "58ac6f38-f220-4212-a58e-c9ad077dcd71",
   "metadata": {},
   "source": [
    "5. Plot the booleans reasults to a graph"
   ]
  },
  {
   "cell_type": "code",
   "execution_count": 9,
   "id": "c63c9066-7bcb-476e-961d-911995e7c306",
   "metadata": {
    "tags": []
   },
   "outputs": [
    {
     "data": {
      "image/png": "[encoded data removed]",
      "text/plain": [
       "<Figure size 640x480 with 1 Axes>"
      ]
     },
     "metadata": {},
     "output_type": "display_data"
    }
   ],
   "source": [
    "import matplotlib.pyplot as plt\n",
    "plt.imshow(r.T, extent=[-2,1,-1.5,1.5])\n",
    "plt.show()"
   ]
  },
  {
   "cell_type": "markdown",
   "id": "502b8972-9fea-420a-8057-ab2260f6dc8b",
   "metadata": {},
   "source": [
    "### Combine all the steps, where the number of iterations, threshold, number of evenly spaced values for x and y is taken as arguments of the function and the boolean mask is returned"
   ]
  },
  {
   "cell_type": "code",
   "execution_count": null,
   "id": "059add87-729d-40e9-931c-498f88d61eed",
   "metadata": {},
   "outputs": [],
   "source": []
  },
  {
   "cell_type": "markdown",
   "id": "4550233f-6218-440f-a8d0-231b2519d1d8",
   "metadata": {},
   "source": [
    "The scipy package contains modules corresponding to different applications, such as interpolation, integration, optimization, etc.\n",
    "\n",
    "1. scipy.linalg -> For linear algebra operations\n",
    "2. scipy.interpolate -> Interpolation\n",
    "3. scipy.stats -> Random numbers and statistics\n",
    "4. scipy.integrate -> Numerical Integration\n",
    "5. scipy.fftpack -> Fast Fourier Transforms\n",
    "6. scipy.special -> special functions like gamma, bessel, etc.\n",
    "7. scipy.optimize -> For root finding, curve fitting"
   ]
  },
  {
   "cell_type": "code",
   "execution_count": 1,
   "id": "8e2eb574-6178-4fcc-9ad0-b86b94e84d4a",
   "metadata": {
    "tags": []
   },
   "outputs": [],
   "source": [
    "import scipy as sp"
   ]
  },
  {
   "cell_type": "code",
   "execution_count": 3,
   "id": "acfce370-dbea-4226-aafc-aaec8ba27a2c",
   "metadata": {
    "tags": []
   },
   "outputs": [
    {
     "data": {
      "text/plain": [
       "\u001b[1;31mSignature:\u001b[0m\n",
       "\u001b[0msp\u001b[0m\u001b[1;33m.\u001b[0m\u001b[0moptimize\u001b[0m\u001b[1;33m.\u001b[0m\u001b[0mcurve_fit\u001b[0m\u001b[1;33m(\u001b[0m\u001b[1;33m\n",
       "\u001b[0m    \u001b[0mf\u001b[0m\u001b[1;33m,\u001b[0m\u001b[1;33m\n",
       "\u001b[0m    \u001b[0mxdata\u001b[0m\u001b[1;33m,\u001b[0m\u001b[1;33m\n",
       "\u001b[0m    \u001b[0mydata\u001b[0m\u001b[1;33m,\u001b[0m\u001b[1;33m\n",
       "\u001b[0m    \u001b[0mp0\u001b[0m\u001b[1;33m=\u001b[0m\u001b[1;32mNone\u001b[0m\u001b[1;33m,\u001b[0m\u001b[1;33m\n",
       "\u001b[0m    \u001b[0msigma\u001b[0m\u001b[1;33m=\u001b[0m\u001b[1;32mNone\u001b[0m\u001b[1;33m,\u001b[0m\u001b[1;33m\n",
       "\u001b[0m    \u001b[0mabsolute_sigma\u001b[0m\u001b[1;33m=\u001b[0m\u001b[1;32mFalse\u001b[0m\u001b[1;33m,\u001b[0m\u001b[1;33m\n",
       "\u001b[0m    \u001b[0mcheck_finite\u001b[0m\u001b[1;33m=\u001b[0m\u001b[1;32mNone\u001b[0m\u001b[1;33m,\u001b[0m\u001b[1;33m\n",
       "\u001b[0m    \u001b[0mbounds\u001b[0m\u001b[1;33m=\u001b[0m\u001b[1;33m(\u001b[0m\u001b[1;33m-\u001b[0m\u001b[0minf\u001b[0m\u001b[1;33m,\u001b[0m \u001b[0minf\u001b[0m\u001b[1;33m)\u001b[0m\u001b[1;33m,\u001b[0m\u001b[1;33m\n",
       "\u001b[0m    \u001b[0mmethod\u001b[0m\u001b[1;33m=\u001b[0m\u001b[1;32mNone\u001b[0m\u001b[1;33m,\u001b[0m\u001b[1;33m\n",
       "\u001b[0m    \u001b[0mjac\u001b[0m\u001b[1;33m=\u001b[0m\u001b[1;32mNone\u001b[0m\u001b[1;33m,\u001b[0m\u001b[1;33m\n",
       "\u001b[0m    \u001b[1;33m*\u001b[0m\u001b[1;33m,\u001b[0m\u001b[1;33m\n",
       "\u001b[0m    \u001b[0mfull_output\u001b[0m\u001b[1;33m=\u001b[0m\u001b[1;32mFalse\u001b[0m\u001b[1;33m,\u001b[0m\u001b[1;33m\n",
       "\u001b[0m    \u001b[0mnan_policy\u001b[0m\u001b[1;33m=\u001b[0m\u001b[1;32mNone\u001b[0m\u001b[1;33m,\u001b[0m\u001b[1;33m\n",
       "\u001b[0m    \u001b[1;33m**\u001b[0m\u001b[0mkwargs\u001b[0m\u001b[1;33m,\u001b[0m\u001b[1;33m\n",
       "\u001b[0m\u001b[1;33m)\u001b[0m\u001b[1;33m\u001b[0m\u001b[1;33m\u001b[0m\u001b[0m\n",
       "\u001b[1;31mDocstring:\u001b[0m\n",
       "Use non-linear least squares to fit a function, f, to data.\n",
       "\n",
       "Assumes ``ydata = f(xdata, *params) + eps``.\n",
       "\n",
       "Parameters\n",
       "----------\n",
       "f : callable\n",
       "    The model function, f(x, ...). It must take the independent\n",
       "    variable as the first argument and the parameters to fit as\n",
       "    separate remaining arguments.\n",
       "xdata : array_like\n",
       "    The independent variable where the data is measured.\n",
       "    Should usually be an M-length sequence or an (k,M)-shaped array for\n",
       "    functions with k predictors, and each element should be float\n",
       "    convertible if it is an array like object.\n",
       "ydata : array_like\n",
       "    The dependent data, a length M array - nominally ``f(xdata, ...)``.\n",
       "p0 : array_like, optional\n",
       "    Initial guess for the parameters (length N). If None, then the\n",
       "    initial values will all be 1 (if the number of parameters for the\n",
       "    function can be determined using introspection, otherwise a\n",
       "    ValueError is raised).\n",
       "sigma : None or M-length sequence or MxM array, optional\n",
       "    Determines the uncertainty in `ydata`. If we define residuals as\n",
       "    ``r = ydata - f(xdata, *popt)``, then the interpretation of `sigma`\n",
       "    depends on its number of dimensions:\n",
       "\n",
       "        - A 1-D `sigma` should contain values of standard deviations of\n",
       "          errors in `ydata`. In this case, the optimized function is\n",
       "          ``chisq = sum((r / sigma) ** 2)``.\n",
       "\n",
       "        - A 2-D `sigma` should contain the covariance matrix of\n",
       "          errors in `ydata`. In this case, the optimized function is\n",
       "          ``chisq = r.T @ inv(sigma) @ r``.\n",
       "\n",
       "          .. versionadded:: 0.19\n",
       "\n",
       "    None (default) is equivalent of 1-D `sigma` filled with ones.\n",
       "absolute_sigma : bool, optional\n",
       "    If True, `sigma` is used in an absolute sense and the estimated parameter\n",
       "    covariance `pcov` reflects these absolute values.\n",
       "\n",
       "    If False (default), only the relative magnitudes of the `sigma` values matter.\n",
       "    The returned parameter covariance matrix `pcov` is based on scaling\n",
       "    `sigma` by a constant factor. This constant is set by demanding that the\n",
       "    reduced `chisq` for the optimal parameters `popt` when using the\n",
       "    *scaled* `sigma` equals unity. In other words, `sigma` is scaled to\n",
       "    match the sample variance of the residuals after the fit. Default is False.\n",
       "    Mathematically,\n",
       "    ``pcov(absolute_sigma=False) = pcov(absolute_sigma=True) * chisq(popt)/(M-N)``\n",
       "check_finite : bool, optional\n",
       "    If True, check that the input arrays do not contain nans of infs,\n",
       "    and raise a ValueError if they do. Setting this parameter to\n",
       "    False may silently produce nonsensical results if the input arrays\n",
       "    do contain nans. Default is True if `nan_policy` is not specified\n",
       "    explicitly and False otherwise.\n",
       "bounds : 2-tuple of array_like or `Bounds`, optional\n",
       "    Lower and upper bounds on parameters. Defaults to no bounds.\n",
       "    There are two ways to specify the bounds:\n",
       "\n",
       "        - Instance of `Bounds` class.\n",
       "\n",
       "        - 2-tuple of array_like: Each element of the tuple must be either\n",
       "          an array with the length equal to the number of parameters, or a\n",
       "          scalar (in which case the bound is taken to be the same for all\n",
       "          parameters). Use ``np.inf`` with an appropriate sign to disable\n",
       "          bounds on all or some parameters.\n",
       "\n",
       "method : {'lm', 'trf', 'dogbox'}, optional\n",
       "    Method to use for optimization. See `least_squares` for more details.\n",
       "    Default is 'lm' for unconstrained problems and 'trf' if `bounds` are\n",
       "    provided. The method 'lm' won't work when the number of observations\n",
       "    is less than the number of variables, use 'trf' or 'dogbox' in this\n",
       "    case.\n",
       "\n",
       "    .. versionadded:: 0.17\n",
       "jac : callable, string or None, optional\n",
       "    Function with signature ``jac(x, ...)`` which computes the Jacobian\n",
       "    matrix of the model function with respect to parameters as a dense\n",
       "    array_like structure. It will be scaled according to provided `sigma`.\n",
       "    If None (default), the Jacobian will be estimated numerically.\n",
       "    String keywords for 'trf' and 'dogbox' methods can be used to select\n",
       "    a finite difference scheme, see `least_squares`.\n",
       "\n",
       "    .. versionadded:: 0.18\n",
       "full_output : boolean, optional\n",
       "    If True, this function returns additioal information: `infodict`,\n",
       "    `mesg`, and `ier`.\n",
       "\n",
       "    .. versionadded:: 1.9\n",
       "nan_policy : {'raise', 'omit', None}, optional\n",
       "    Defines how to handle when input contains nan.\n",
       "    The following options are available (default is None):\n",
       "\n",
       "      * 'raise': throws an error\n",
       "      * 'omit': performs the calculations ignoring nan values\n",
       "      * None: no special handling of NaNs is performed\n",
       "        (except what is done by check_finite); the behavior when NaNs\n",
       "        are present is implementation-dependent and may change.\n",
       "\n",
       "    Note that if this value is specified explicitly (not None),\n",
       "    `check_finite` will be set as False.\n",
       "\n",
       "    .. versionadded:: 1.11\n",
       "**kwargs\n",
       "    Keyword arguments passed to `leastsq` for ``method='lm'`` or\n",
       "    `least_squares` otherwise.\n",
       "\n",
       "Returns\n",
       "-------\n",
       "popt : array\n",
       "    Optimal values for the parameters so that the sum of the squared\n",
       "    residuals of ``f(xdata, *popt) - ydata`` is minimized.\n",
       "pcov : 2-D array\n",
       "    The estimated approximate covariance of popt. The diagonals provide\n",
       "    the variance of the parameter estimate. To compute one standard\n",
       "    deviation errors on the parameters, use\n",
       "    ``perr = np.sqrt(np.diag(pcov))``. Note that the relationship between\n",
       "    `cov` and parameter error estimates is derived based on a linear\n",
       "    approximation to the model function around the optimum [1].\n",
       "    When this approximation becomes inaccurate, `cov` may not provide an\n",
       "    accurate measure of uncertainty.\n",
       "\n",
       "    How the `sigma` parameter affects the estimated covariance\n",
       "    depends on `absolute_sigma` argument, as described above.\n",
       "\n",
       "    If the Jacobian matrix at the solution doesn't have a full rank, then\n",
       "    'lm' method returns a matrix filled with ``np.inf``, on the other hand\n",
       "    'trf'  and 'dogbox' methods use Moore-Penrose pseudoinverse to compute\n",
       "    the covariance matrix. Covariance matrices with large condition numbers\n",
       "    (e.g. computed with `numpy.linalg.cond`) may indicate that results are\n",
       "    unreliable.\n",
       "infodict : dict (returned only if `full_output` is True)\n",
       "    a dictionary of optional outputs with the keys:\n",
       "\n",
       "    ``nfev``\n",
       "        The number of function calls. Methods 'trf' and 'dogbox' do not\n",
       "        count function calls for numerical Jacobian approximation,\n",
       "        as opposed to 'lm' method.\n",
       "    ``fvec``\n",
       "        The residual values evaluated at the solution, for a 1-D `sigma`\n",
       "        this is ``(f(x, *popt) - ydata)/sigma``.\n",
       "    ``fjac``\n",
       "        A permutation of the R matrix of a QR\n",
       "        factorization of the final approximate\n",
       "        Jacobian matrix, stored column wise.\n",
       "        Together with ipvt, the covariance of the\n",
       "        estimate can be approximated.\n",
       "        Method 'lm' only provides this information.\n",
       "    ``ipvt``\n",
       "        An integer array of length N which defines\n",
       "        a permutation matrix, p, such that\n",
       "        fjac*p = q*r, where r is upper triangular\n",
       "        with diagonal elements of nonincreasing\n",
       "        magnitude. Column j of p is column ipvt(j)\n",
       "        of the identity matrix.\n",
       "        Method 'lm' only provides this information.\n",
       "    ``qtf``\n",
       "        The vector (transpose(q) * fvec).\n",
       "        Method 'lm' only provides this information.\n",
       "\n",
       "    .. versionadded:: 1.9\n",
       "mesg : str (returned only if `full_output` is True)\n",
       "    A string message giving information about the solution.\n",
       "\n",
       "    .. versionadded:: 1.9\n",
       "ier : int (returnned only if `full_output` is True)\n",
       "    An integer flag. If it is equal to 1, 2, 3 or 4, the solution was\n",
       "    found. Otherwise, the solution was not found. In either case, the\n",
       "    optional output variable `mesg` gives more information.\n",
       "\n",
       "    .. versionadded:: 1.9\n",
       "\n",
       "Raises\n",
       "------\n",
       "ValueError\n",
       "    if either `ydata` or `xdata` contain NaNs, or if incompatible options\n",
       "    are used.\n",
       "\n",
       "RuntimeError\n",
       "    if the least-squares minimization fails.\n",
       "\n",
       "OptimizeWarning\n",
       "    if covariance of the parameters can not be estimated.\n",
       "\n",
       "See Also\n",
       "--------\n",
       "least_squares : Minimize the sum of squares of nonlinear functions.\n",
       "scipy.stats.linregress : Calculate a linear least squares regression for\n",
       "                         two sets of measurements.\n",
       "\n",
       "Notes\n",
       "-----\n",
       "Users should ensure that inputs `xdata`, `ydata`, and the output of `f`\n",
       "are ``float64``, or else the optimization may return incorrect results.\n",
       "\n",
       "With ``method='lm'``, the algorithm uses the Levenberg-Marquardt algorithm\n",
       "through `leastsq`. Note that this algorithm can only deal with\n",
       "unconstrained problems.\n",
       "\n",
       "Box constraints can be handled by methods 'trf' and 'dogbox'. Refer to\n",
       "the docstring of `least_squares` for more information.\n",
       "\n",
       "References\n",
       "----------\n",
       "[1] K. Vugrin et al. Confidence region estimation techniques for nonlinear\n",
       "    regression in groundwater flow: Three case studies. Water Resources\n",
       "    Research, Vol. 43, W03423, :doi:`10.1029/2005WR004804`\n",
       "\n",
       "Examples\n",
       "--------\n",
       ">>> import numpy as np\n",
       ">>> import matplotlib.pyplot as plt\n",
       ">>> from scipy.optimize import curve_fit\n",
       "\n",
       ">>> def func(x, a, b, c):\n",
       "...     return a * np.exp(-b * x) + c\n",
       "\n",
       "Define the data to be fit with some noise:\n",
       "\n",
       ">>> xdata = np.linspace(0, 4, 50)\n",
       ">>> y = func(xdata, 2.5, 1.3, 0.5)\n",
       ">>> rng = np.random.default_rng()\n",
       ">>> y_noise = 0.2 * rng.normal(size=xdata.size)\n",
       ">>> ydata = y + y_noise\n",
       ">>> plt.plot(xdata, ydata, 'b-', label='data')\n",
       "\n",
       "Fit for the parameters a, b, c of the function `func`:\n",
       "\n",
       ">>> popt, pcov = curve_fit(func, xdata, ydata)\n",
       ">>> popt\n",
       "array([2.56274217, 1.37268521, 0.47427475])\n",
       ">>> plt.plot(xdata, func(xdata, *popt), 'r-',\n",
       "...          label='fit: a=%5.3f, b=%5.3f, c=%5.3f' % tuple(popt))\n",
       "\n",
       "Constrain the optimization to the region of ``0 <= a <= 3``,\n",
       "``0 <= b <= 1`` and ``0 <= c <= 0.5``:\n",
       "\n",
       ">>> popt, pcov = curve_fit(func, xdata, ydata, bounds=(0, [3., 1., 0.5]))\n",
       ">>> popt\n",
       "array([2.43736712, 1.        , 0.34463856])\n",
       ">>> plt.plot(xdata, func(xdata, *popt), 'g--',\n",
       "...          label='fit: a=%5.3f, b=%5.3f, c=%5.3f' % tuple(popt))\n",
       "\n",
       ">>> plt.xlabel('x')\n",
       ">>> plt.ylabel('y')\n",
       ">>> plt.legend()\n",
       ">>> plt.show()\n",
       "\n",
       "For reliable results, the model `func` should not be overparametrized;\n",
       "redundant parameters can cause unreliable covariance matrices and, in some\n",
       "cases, poorer quality fits. As a quick check of whether the model may be\n",
       "overparameterized, calculate the condition number of the covariance matrix:\n",
       "\n",
       ">>> np.linalg.cond(pcov)\n",
       "34.571092161547405  # may vary\n",
       "\n",
       "The value is small, so it does not raise much concern. If, however, we were\n",
       "to add a fourth parameter ``d`` to `func` with the same effect as ``a``:\n",
       "\n",
       ">>> def func(x, a, b, c, d):\n",
       "...     return a * d * np.exp(-b * x) + c  # a and d are redundant\n",
       ">>> popt, pcov = curve_fit(func, xdata, ydata)\n",
       ">>> np.linalg.cond(pcov)\n",
       "1.13250718925596e+32  # may vary\n",
       "\n",
       "Such a large value is cause for concern. The diagonal elements of the\n",
       "covariance matrix, which is related to uncertainty of the fit, gives more\n",
       "information:\n",
       "\n",
       ">>> np.diag(pcov)\n",
       "array([1.48814742e+29, 3.78596560e-02, 5.39253738e-03, 2.76417220e+28])  # may vary\n",
       "\n",
       "Note that the first and last terms are much larger than the other elements,\n",
       "suggesting that the optimal values of these parameters are ambiguous and\n",
       "that only one of these parameters is needed in the model.\n",
       "\u001b[1;31mFile:\u001b[0m      c:\\users\\simul\\anaconda3\\lib\\site-packages\\scipy\\optimize\\_minpack_py.py\n",
       "\u001b[1;31mType:\u001b[0m      function"
      ]
     },
     "metadata": {},
     "output_type": "display_data"
    }
   ],
   "source": [
    "sp.optimize.curve_fit?"
   ]
  },
  {
   "cell_type": "code",
   "execution_count": 10,
   "id": "ee50853b-c6a6-4433-88e1-4008d1ff27bf",
   "metadata": {
    "tags": []
   },
   "outputs": [
    {
     "data": {
      "image/png": "[encoded data removed]",
      "text/plain": [
       "<Figure size 640x480 with 1 Axes>"
      ]
     },
     "metadata": {},
     "output_type": "display_data"
    }
   ],
   "source": [
    "datapts = np.array([[107.608, 60.323],[108.632, 61.122],[109.773, 60.171],[110.929, 61.187],[112.075, 63.221],[113.27,  63.639],[115.094, 64.989],[116.219, 63.761],\n",
    "[117.388, 66.019],[118.734, 67.857],[120.445, 68.169],[121.95,  66.513],[123.366, 68.655],[125.368, 69.564],[127.852, 69.331],[130.081, 70.551]])\n",
    "# choose the input and output variables\n",
    "x, y = datapts[:, 0], datapts[:, -1]\n",
    "# plot input vs output\n",
    "plt.scatter(x, y)\n",
    "plt.show()"
   ]
  },
  {
   "cell_type": "code",
   "execution_count": 11,
   "id": "ffb31860-d8bc-4117-9d48-f8618a19cab3",
   "metadata": {
    "tags": []
   },
   "outputs": [
    {
     "data": {
      "image/png": "[encoded data removed]",
      "text/plain": [
       "<Figure size 640x480 with 1 Axes>"
      ]
     },
     "metadata": {},
     "output_type": "display_data"
    }
   ],
   "source": [
    "# define the true objective function\n",
    "def objective(x, a, b):\n",
    "    return a * x + b\n",
    "\n",
    "# curve fit\n",
    "popt, _ = sp.optimize.curve_fit(objective, x, y)\n",
    "# summarize the parameter values\n",
    "a,b = popt\n",
    "\n",
    "# define a sequence of inputs between the smallest and largest known inputs\n",
    "x_line = np.arange(min(x), max(x), 1)\n",
    "# calculate the output for the range\n",
    "y_line = objective(x_line, a, b)\n",
    "# create a line plot for the mapping function\n",
    "plt.scatter(x,y)\n",
    "plt.plot(x_line, y_line, '--', color='red')"
   ]
  },
  {
   "cell_type": "code",
   "execution_count": null,
   "id": "5323e8b9-d71b-405f-9fc1-7eb8b0a26065",
   "metadata": {},
   "outputs": [],
   "source": []
  },
  {
   "cell_type": "markdown",
   "id": "c780bd13",
   "metadata": {},
   "source": [
    "## Practice Questions\n",
    "\n",
    "1.  Find the dot product of the matrix with any matix. Print the size/shape of the matrix\n",
    "\n",
    "2.  Reverse a numpy array\n",
    "\n",
    "3.  Write a NumPy program to create a 5x5 identity matrix and stack it vertically and horizontally.\n",
    "\n",
    "4. Write a NumPy program to create a 4x4 array with random values and subtract the mean of each column from each element."
   ]
  },
  {
   "cell_type": "code",
   "execution_count": 36,
   "id": "b88f076d",
   "metadata": {},
   "outputs": [
    {
     "name": "stdout",
     "output_type": "stream",
     "text": [
      "[1 2 4 7 0]\n",
      "[0 7 4 2 1]\n",
      "44\n",
      "[[1 0 0 0 0]\n",
      " [0 1 0 0 0]\n",
      " [0 0 1 0 0]\n",
      " [0 0 0 1 0]\n",
      " [0 0 0 0 1]]\n",
      "[[1. 0. 0. 0. 0. 1. 0. 0. 0. 0.]\n",
      " [0. 1. 0. 0. 0. 0. 1. 0. 0. 0.]\n",
      " [0. 0. 1. 0. 0. 0. 0. 1. 0. 0.]\n",
      " [0. 0. 0. 1. 0. 0. 0. 0. 1. 0.]\n",
      " [0. 0. 0. 0. 1. 0. 0. 0. 0. 1.]]\n",
      "[[1. 0. 0. 0. 0.]\n",
      " [0. 1. 0. 0. 0.]\n",
      " [0. 0. 1. 0. 0.]\n",
      " [0. 0. 0. 1. 0.]\n",
      " [0. 0. 0. 0. 1.]\n",
      " [1. 0. 0. 0. 0.]\n",
      " [0. 1. 0. 0. 0.]\n",
      " [0. 0. 1. 0. 0.]\n",
      " [0. 0. 0. 1. 0.]\n",
      " [0. 0. 0. 0. 1.]]\n"
     ]
    }
   ],
   "source": [
    "x = np.array([1,2,4,7,0])\n",
    "y = x[::-1]\n",
    "print(x)\n",
    "print(y)\n",
    "print(np.dot(x,y))\n",
    "print(np.eye(5).T.astype(int))\n",
    "print(np.hstack((np.eye(5),np.eye(5))))\n",
    "print(np.vstack((np.eye(5),np.eye(5))))"
   ]
  }
 ],
 "metadata": {
  "kernelspec": {
   "display_name": "Python 3 (ipykernel)",
   "language": "python",
   "name": "python3"
  },
  "language_info": {
   "codemirror_mode": {
    "name": "ipython",
    "version": 3
   },
   "file_extension": ".py",
   "mimetype": "text/x-python",
   "name": "python",
   "nbconvert_exporter": "python",
   "pygments_lexer": "ipython3",
   "version": "3.10.12"
  }
 },
 "nbformat": 4,
 "nbformat_minor": 5
}
