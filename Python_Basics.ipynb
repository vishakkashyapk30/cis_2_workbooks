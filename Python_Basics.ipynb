{
  "cells": [
    {
      "cell_type": "markdown",
      "metadata": {
        "id": "PQmVPtLWiKue"
      },
      "source": [
        "# Assignment: Basic Python Concepts\n",
        "## Problem: Variables and Data Types\n",
        "Create a Python script that does the following:\n",
        "\n",
        "1. Defines a variable x and assigns it an integer value.\n",
        "2. Defines a variable y and assigns it a floating-point value.\n",
        "3. Defines a variable z and assigns it a string value.\n",
        "4. Defines a variable a and assigns it a boolean value.\n",
        "5. Prints the value and data type of each variable.\n"
      ]
    },
    {
      "cell_type": "code",
      "execution_count": 1,
      "metadata": {
        "id": "d0fxu9u9iyWu"
      },
      "outputs": [
        {
          "name": "stdout",
          "output_type": "stream",
          "text": [
            "x: 10, type: <class 'int'>\n",
            "y: 20.5, type: <class 'float'>\n",
            "z: Hello, world!, type: <class 'str'>\n",
            "a: True, type: <class 'bool'>\n"
          ]
        }
      ],
      "source": [
        "x = 10 #1\n",
        "y = 20.5 #2\n",
        "z = \"Hello, world!\" #3\n",
        "a = True #4\n",
        "\n",
        "print(f\"x: {x}, type: {type(x)}\") #5\n",
        "print(f\"y: {y}, type: {type(y)}\")\n",
        "print(f\"z: {z}, type: {type(z)}\")\n",
        "print(f\"a: {a}, type: {type(a)}\")"
      ]
    },
    {
      "cell_type": "markdown",
      "metadata": {
        "id": "zs6qX6NJiphd"
      },
      "source": [
        "# Problem: Control Structures\n",
        "## Create a Python script that does the following:\n",
        "\n",
        "1. Defines a list of integers from 1 to 10.\n",
        "2. Uses a for loop to print each element of the list.\n",
        "3. Uses a while loop to print the sum of the elements in the list.\n"
      ]
    },
    {
      "cell_type": "code",
      "execution_count": 2,
      "metadata": {
        "id": "XBMAF7Jziz4G"
      },
      "outputs": [
        {
          "name": "stdout",
          "output_type": "stream",
          "text": [
            "1\n",
            "2\n",
            "3\n",
            "4\n",
            "5\n",
            "6\n",
            "7\n",
            "8\n",
            "9\n",
            "10\n",
            "55\n"
          ]
        }
      ],
      "source": [
        "num= list(range(1, 11)) #1\n",
        "for n in num: #2\n",
        "    print(n)\n",
        "i=0 #3\n",
        "sum=0\n",
        "while i<len(num):\n",
        "    sum+=num[i]\n",
        "    i+=1\n",
        "print(sum)"
      ]
    },
    {
      "cell_type": "markdown",
      "metadata": {
        "id": "a2C5gRxvjRGk"
      },
      "source": [
        "# Problem Set: Matplotlib Basics\n"
      ]
    },
    {
      "cell_type": "markdown",
      "metadata": {
        "id": "wcCYiSC0idj4"
      },
      "source": [
        "## Problem : Line Plot\n",
        "\n",
        "Create a Python script that does the following:\n",
        "\n",
        "1. Imports the matplotlib.pyplot module as plt.\n",
        "2. Defines a list of x-values from 0 to 10 (inclusive).\n",
        "3. Defines a list of y-values as the square of each x-value in the list.\n",
        "4. Uses the plot function to create a line plot of the x and y values.\n",
        "5. Labels the x-axis as \"x-axis\" and the y-axis as \"y-axis\".\n",
        "6. Sets the title of the plot as \"Line Plot\".\n",
        "7. Saves the plot as a PNG file named \"line_plot.png\".\n"
      ]
    },
    {
      "cell_type": "code",
      "execution_count": 3,
      "metadata": {
        "id": "GZn4nJugjPBp"
      },
      "outputs": [
        {
          "data": {
            "image/png": "[encoded data removed]",
            "text/plain": [
              "<Figure size 640x480 with 1 Axes>"
            ]
          },
          "metadata": {},
          "output_type": "display_data"
        }
      ],
      "source": [
        "import matplotlib.pyplot as plt #1\n",
        "\n",
        "x_values = list(range(0, 11)) #2\n",
        "y_values = [x**2 for x in x_values] #3\n",
        "plt.plot(x_values, y_values) #4\n",
        "plt.xlabel(\"x-axis\") #5\n",
        "plt.ylabel(\"y-axis\")\n",
        "plt.title(\"Line Plot\") #6\n",
        "plt.grid()"
      ]
    },
    {
      "cell_type": "markdown",
      "metadata": {
        "id": "k0-Cx8_Uidk1"
      },
      "source": [
        "## Problem:  Bar chart\n",
        "Create a Python script that does the following:\n",
        "\n",
        "1. Imports the matplotlib.pyplot module as plt.\n",
        "2. Defines a list of labels as the names of five different fruits.\n",
        "3. Defines a list of values as the number of fruits in stock.\n",
        "4. Uses the bar function to create a bar chart of the labels and values.\n",
        "5. Labels the x-axis as \"Fruits\" and the y-axis as \"Stock\".\n",
        "6. Sets the title of the plot as \"Fruit Stock\".\n",
        "7. Saves the plot as a PNG file named \"bar_chart.png\".\n"
      ]
    },
    {
      "cell_type": "code",
      "execution_count": 4,
      "metadata": {
        "id": "Jog4NxE_jhtO"
      },
      "outputs": [
        {
          "data": {
            "text/plain": [
              "Text(0.5, 1.0, 'Fruit Stock')"
            ]
          },
          "execution_count": 4,
          "metadata": {},
          "output_type": "execute_result"
        },
        {
          "data": {
            "image/png": "[encoded data removed]",
            "text/plain": [
              "<Figure size 640x480 with 1 Axes>"
            ]
          },
          "metadata": {},
          "output_type": "display_data"
        }
      ],
      "source": [
        "import matplotlib.pyplot as plt #1\n",
        "\n",
        "x_fruits=[\"apple\", \"banana\", \"cherry\", \"date\", \"mango\"] #2\n",
        "y_values=[20, 35, 30, 35, 27] #3\n",
        "plt.bar(x_fruits, y_values) #4\n",
        "plt.xlabel(\"Fruits\") #5\n",
        "plt.ylabel(\"Stock\")\n",
        "plt.title(\"Fruit Stock\") #6"
      ]
    },
    {
      "cell_type": "markdown",
      "metadata": {
        "id": "1ceo50S-jsXh"
      },
      "source": [
        "## Problem: Scatter Plot\n",
        "\n",
        "Create a Python script that does the following:\n",
        "\n",
        "1. Imports the matplotlib.pyplot module as plt.\n",
        "2. Defines two lists of values, x and y, each with ten randomly generated values between 0 and 1.\n",
        "4. Uses the scatter function to create a scatter plot of the x and y values.\n",
        "5. Labels the x-axis as \"x-axis\" and the y-axis as \"y-axis\".\n",
        "6. Sets the title of the plot as \"Scatter Plot\".\n",
        "7. Saves the plot as a PNG file named \"scatter_plot.png\"."
      ]
    },
    {
      "cell_type": "code",
      "execution_count": 8,
      "metadata": {
        "id": "0wg-8YDpjz__"
      },
      "outputs": [
        {
          "data": {
            "image/png": "[encoded data removed]",
            "text/plain": [
              "<Figure size 640x480 with 1 Axes>"
            ]
          },
          "metadata": {},
          "output_type": "display_data"
        }
      ],
      "source": [
        "import matplotlib.pyplot as plt #1\n",
        "import random #2\n",
        "\n",
        "x=[random.random() for _ in range(10)]\n",
        "y=[random.random() for _ in range(10)]\n",
        "plt.scatter(x, y) #3\n",
        "plt.xlabel(\"x-axis\") #4\n",
        "plt.ylabel(\"y-axis\")\n",
        "plt.title(\"Scatter Plot\") #5\n",
        "plt.savefig(\"scatter_plot.png\") #6"
      ]
    },
    {
      "cell_type": "markdown",
      "metadata": {
        "id": "FF2EGm97j1rj"
      },
      "source": [
        "# Problem set Numpy Basics\n"
      ]
    },
    {
      "cell_type": "markdown",
      "metadata": {},
      "source": [
        "## Problem 1: Creating Arrays\n",
        "Create a Python script that does the following:\n",
        "\n",
        "1. Imports the numpy module as np.\n",
        "2. Defines a 1-dimensional NumPy array of integers from 0 to 9 (inclusive).\n",
        "3. Defines a 2-dimensional NumPy array of integers with shape (2, 3) and with the following values:\n",
        "[[1, 2, 3],\n",
        " [4, 5, 6]]\n",
        "4. Prints the shape and data type of each array.\n",
        "\n",
        "Example output:\n",
        "\n",
        "1D array: [0 1 2 3 4 5 6 7 8 9]\n",
        "\n",
        "Shape: (10,)\n",
        "\n",
        "Data Type: int64\n",
        "\n",
        "2D array:\n",
        "\n",
        "[[1 2 3] \\\n",
        " [4 5 6]]\n",
        "\n",
        "Shape: (2, 3)\n",
        "\n",
        "Data Type: int64"
      ]
    },
    {
      "cell_type": "code",
      "execution_count": 12,
      "metadata": {},
      "outputs": [
        {
          "name": "stdout",
          "output_type": "stream",
          "text": [
            "1D array: [0 1 2 3 4 5 6 7 8 9]\n",
            "Shape: (10,)\n",
            "Data Type: int64\n",
            "\n",
            "2D array:\n",
            " [[1 2 3]\n",
            " [4 5 6]]\n",
            "Shape: (2, 3)\n",
            "Data Type: int64\n"
          ]
        }
      ],
      "source": [
        "import numpy as np #1\n",
        "\n",
        "array_1d = np.arange(10) #2\n",
        "print(\"1D array:\", array_1d) #4\n",
        "print(\"Shape:\", array_1d.shape)\n",
        "print(\"Data Type:\", array_1d.dtype)\n",
        "\n",
        "array_2d = np.array([[1, 2, 3], [4, 5, 6]]) #3\n",
        "print(\"\\n2D array:\\n\", array_2d) #4\n",
        "print(\"Shape:\", array_2d.shape)\n",
        "print(\"Data Type:\", array_2d.dtype)"
      ]
    },
    {
      "cell_type": "code",
      "execution_count": 15,
      "metadata": {},
      "outputs": [
        {
          "name": "stdout",
          "output_type": "stream",
          "text": [
            "3D array:\n",
            " [[[ 1  2  3]\n",
            "  [ 4  5  6]]\n",
            "\n",
            " [[ 7  8  9]\n",
            "  [10 11 12]]\n",
            "\n",
            " [[13 14 15]\n",
            "  [16 17 18]]]\n",
            "Shape: (3, 2, 3)\n"
          ]
        }
      ],
      "source": [
        "array_3d = np.array([[[1, 2, 3], [4, 5, 6]], [[7, 8, 9], [10, 11, 12]], [[13, 14, 15], [16, 17, 18]]])\n",
        "print(\"3D array:\\n\", array_3d)\n",
        "print(\"Shape:\", array_3d.shape)"
      ]
    },
    {
      "cell_type": "markdown",
      "metadata": {},
      "source": [
        "\n",
        "## Problem 2: Array Operations\n",
        "Create a Python script that does the following:\n",
        "\n",
        "1. Imports the numpy module as np.\n",
        "2. Defines two 1-dimensional NumPy arrays of integers with the same length.\n",
        "3. Computes the element-wise sum, difference, product, and quotient of the two arrays.\n",
        "4. Computes the dot product of the two arrays.\n",
        "5. Prints the results of each computation.\n",
        "\n",
        "Example output:\n",
        "\n",
        "Array 1: [1 2 3]\n",
        "\n",
        "Array 2: [4 5 6]\n",
        "\n",
        "Element-wise sum: [5 7 9]\n",
        "\n",
        "Element-wise difference: [-3 -3 -3]\n",
        "\n",
        "Element-wise product: [ 4 10 18]\n",
        "\n",
        "Element-wise quotient: [0.25 0.4 0.5]\n",
        "\n",
        "Dot product: 32"
      ]
    },
    {
      "cell_type": "code",
      "execution_count": 5,
      "metadata": {},
      "outputs": [
        {
          "name": "stdout",
          "output_type": "stream",
          "text": [
            "Array 1: [1 2 3]\n",
            "Array 2: [4 5 6]\n",
            "Element-wise sum: [5 7 9]\n",
            "Element-wise difference: [-3 -3 -3]\n",
            "Element-wise product: [ 4 10 18]\n",
            "Element-wise quotient: [0.25 0.4  0.5 ]\n",
            "Dot product: 32\n"
          ]
        }
      ],
      "source": [
        "import numpy as np #1\n",
        "\n",
        "array1 = np.array([1, 2, 3]) #2\n",
        "array2 = np.array([4, 5, 6]) \n",
        "\n",
        "sum_array = np.add(array1, array2) #3\n",
        "diff_array = np.subtract(array1, array2)\n",
        "prod_array = np.multiply(array1, array2)\n",
        "quot_array = np.divide(array1, array2) \n",
        "dot_product = np.dot(array1, array2) #4\n",
        "\n",
        "print(\"Array 1:\", array1) #5\n",
        "print(\"Array 2:\", array2)\n",
        "print(\"Element-wise sum:\", sum_array)\n",
        "print(\"Element-wise difference:\", diff_array)\n",
        "print(\"Element-wise product:\", prod_array)\n",
        "print(\"Element-wise quotient:\", quot_array)\n",
        "print(\"Dot product:\", dot_product) "
      ]
    },
    {
      "cell_type": "markdown",
      "metadata": {},
      "source": [
        "# Problem 3: Array Indexing and Slicing\n",
        "Create a Python script that does the following:\n",
        "\n",
        "1. Imports the numpy module as np.\n",
        "2. Defines a 2-dimensional NumPy array of integers with shape (3, 3) and with the following values:\n",
        "\n",
        "[[1, 2, 3], \\\n",
        " [4, 5, 6], \\\n",
        " [7, 8, 9]] \n",
        "\n",
        "3. Uses indexing to print the value of the element in the second row and third column.\n",
        "4. Uses slicing to print the first two rows and first two columns of the array.\n",
        "5. Uses slicing to print the last two rows and last two columns of the array.\n",
        "6. Uses slicing to print the middle row and middle column of the array.\n"
      ]
    },
    {
      "cell_type": "code",
      "execution_count": 7,
      "metadata": {},
      "outputs": [
        {
          "name": "stdout",
          "output_type": "stream",
          "text": [
            "6\n",
            "[[1 2]\n",
            " [4 5]]\n",
            "[[5 6]\n",
            " [8 9]]\n",
            "[[5]]\n"
          ]
        }
      ],
      "source": [
        "import numpy as np #1\n",
        "\n",
        "arr = np.array([[1, 2, 3], [4, 5, 6], [7, 8, 9]]) #2\n",
        "print(arr[1, 2]) #3\n",
        "print(arr[:2, :2]) #4\n",
        "print(arr[-2:, -2:]) #5\n",
        "print(arr[1:2, 1:2]) #6"
      ]
    },
    {
      "cell_type": "markdown",
      "metadata": {},
      "source": [
        "# Problem 4: Random Number Generation\n",
        "Create a Python script that does the following:\n",
        "\n",
        "1. Imports the numpy module as np.\n",
        "2. Generates an array of 10 random integers between 1 and 100 (inclusive).\n",
        "3. Prints the array.\n",
        "4. Computes the mean and standard deviation of the array.\n",
        "5. Prints the mean and standard deviation"
      ]
    },
    {
      "cell_type": "code",
      "execution_count": 20,
      "metadata": {},
      "outputs": [
        {
          "name": "stdout",
          "output_type": "stream",
          "text": [
            "[  8  36 100  69  58  25  25   1   2 100]\n",
            "Mean = 42.4\n",
            "Standard Deviation = 35.724501396100685\n"
          ]
        }
      ],
      "source": [
        "import numpy as np #1\n",
        "\n",
        "arr = np.random.randint(1, 101, size=10) #2\n",
        "print(arr) #3\n",
        "\n",
        "mean = np.mean(arr) #4\n",
        "std_dev = np.std(arr) \n",
        "print(f\"Mean = {mean}\") #5\n",
        "print(f\"Standard Deviation = {std_dev}\")"
      ]
    },
    {
      "cell_type": "code",
      "execution_count": 23,
      "metadata": {},
      "outputs": [
        {
          "data": {
            "text/plain": [
              "array([0. , 1.5, 3. , 4.5, 6. , 7.5, 9. ])"
            ]
          },
          "execution_count": 23,
          "metadata": {},
          "output_type": "execute_result"
        }
      ],
      "source": [
        "np.arange(0, 10, 1.5) # returns array([0, 2, 4, 6, 8])"
      ]
    }
  ],
  "metadata": {
    "colab": {
      "provenance": []
    },
    "kernelspec": {
      "display_name": "Python 3",
      "name": "python3"
    },
    "language_info": {
      "codemirror_mode": {
        "name": "ipython",
        "version": 3
      },
      "file_extension": ".py",
      "mimetype": "text/x-python",
      "name": "python",
      "nbconvert_exporter": "python",
      "pygments_lexer": "ipython3",
      "version": "3.10.12"
    }
  },
  "nbformat": 4,
  "nbformat_minor": 0
}
